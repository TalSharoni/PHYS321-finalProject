{
 "cells": [
  {
   "cell_type": "markdown",
   "id": "4643886e-248f-46d7-9d49-0cf36eed8030",
   "metadata": {},
   "source": [
    "# Phys-321 Final Project"
   ]
  },
  {
   "cell_type": "markdown",
   "id": "07dc3312-0570-444f-9b3f-46aa28e0043c",
   "metadata": {},
   "source": [
    "## Tal Sharoni, Justin Lipper"
   ]
  },
  {
   "cell_type": "code",
   "execution_count": null,
   "id": "cae0fae5-bf7e-425a-a485-cc6d6b84a4b4",
   "metadata": {},
   "outputs": [
    {
     "name": "stdout",
     "output_type": "stream",
     "text": [
      "Intel MKL WARNING: Support of Intel(R) Streaming SIMD Extensions 4.2 (Intel(R) SSE4.2) enabled only processors has been deprecated. Intel oneAPI Math Kernel Library 2025.0 will require Intel(R) Advanced Vector Extensions (Intel(R) AVX) instructions.\n",
      "Intel MKL WARNING: Support of Intel(R) Streaming SIMD Extensions 4.2 (Intel(R) SSE4.2) enabled only processors has been deprecated. Intel oneAPI Math Kernel Library 2025.0 will require Intel(R) Advanced Vector Extensions (Intel(R) AVX) instructions.\n"
     ]
    }
   ],
   "source": [
    "import numpy as np\n",
    "import matplotlib.pyplot as plt\n",
    "import csv\n",
    "from astropy import units as u\n",
    "from astropy.visualization import astropy_mpl_style\n",
    "from scipy.integrate import trapz\n",
    "import scipy.stats as stats\n",
    "from scipy.optimize import curve_fit\n",
    "import corner\n",
    "import emcee\n",
    "import warnings\n",
    "warnings.filterwarnings(\"ignore\", category=DeprecationWarning)"
   ]
  },
  {
   "cell_type": "code",
   "execution_count": null,
   "id": "0a6d2282-daef-4f09-b3d7-c6f8ff3f1347",
   "metadata": {},
   "outputs": [],
   "source": [
    "# to compare to our Solar System\n",
    "solar_system_radius = [0.383, 0.949, 1, 0.532, 11.21, 9.45, 4.01, 3.88]\n",
    "solar_system_stallar_rad = [1]\n",
    "solar_system_semimajor_axis = [0.387, 0.723, 1, 1.52, 5.20, 9.57, 19.17, 30.18]\n",
    "solar_system_orbital_period = [88.0,224.7,365.2,687.0,4331,10747,30589,59800]"
   ]
  },
  {
   "cell_type": "code",
   "execution_count": null,
   "id": "97f1d6bf-b557-4df9-823e-75d339f84ee5",
   "metadata": {},
   "outputs": [],
   "source": [
    "def parse_data(filename):\n",
    "    radius = []\n",
    "    stallar_rad = []\n",
    "    orbital_period = []\n",
    "    orbit_sma = []\n",
    "    with open(filename, 'r') as f:\n",
    "        csvreader = csv.reader(f)\n",
    "        for row in csvreader:\n",
    "            if row[0].startswith('#'):\n",
    "                continue\n",
    "            if row[0] == 'pl_name':\n",
    "                continue\n",
    "            else:\n",
    "                if (row[21] == '') or (row[26] == '') or (row[19] == '') or (row[20] == ''):\n",
    "                    continue\n",
    "                radius.append(float(row[21]))\n",
    "                stallar_rad.append(float(row[26]))\n",
    "                orbital_period.append(float(row[19]))\n",
    "                orbit_sma.append(float(row[20]))\n",
    "    return radius, stallar_rad, orbital_period, orbit_sma            "
   ]
  },
  {
   "cell_type": "code",
   "execution_count": null,
   "id": "72a804e3-81a4-4b0b-9ecf-43044cc8da2e",
   "metadata": {},
   "outputs": [],
   "source": [
    "radius, stallar_rad, orbital_period, orbit_sma = parse_data('./PSCompPars_2024.03.30_12.22.56.csv')"
   ]
  },
  {
   "cell_type": "markdown",
   "id": "e9ad1e3c-f734-4462-9061-e85309586cfc",
   "metadata": {},
   "source": [
    "First, we would like to create a likelihood model for the data, we will do so by fitting the distribution of all the parameters. We can start by plotting histograms of each parameter, and fitting a function to it. Some x domains will be cut off since there are significant outliers with extreme data, and we would like to see the trends of the distributions but those outliers will still be considered for later in the data analysis. Some of the data was also filtered to be able to bin it appropriately. The fitted fuction will be used as likelihood functions."
   ]
  },
  {
   "cell_type": "code",
   "execution_count": null,
   "id": "24b0ab10-9f71-40ab-aed7-5f054422ef86",
   "metadata": {},
   "outputs": [],
   "source": [
    "plt.hist(radius, bins=1000, density=True);\n",
    "plt.title('Distribution of Exoplanets Radii')\n",
    "def bimodal(x, mu1, sigma1, mu2, sigma2, w1):\n",
    "    return (w1 * (1 / np.sqrt(2 * np.pi * sigma1**2)) * np.exp(-(x - mu1)**2 / (2 * sigma1**2))\n",
    "            + (1 - w1) * (1 / np.sqrt(2 * np.pi * sigma2**2)) * np.exp(-(x - mu2)**2 / (2 * sigma2**2)))\n",
    "\n",
    "hist, bins = np.histogram(radius, bins=1000, density=True)\n",
    "bin_centers = (bins[:-1] + bins[1:]) / 2\n",
    "\n",
    "initial_guess = [2, 2, 8, 12, 0.5]\n",
    "popt, pcov = curve_fit(bimodal, bin_centers, hist, p0=initial_guess)\n",
    "planet_radius_distribution_params=popt\n",
    "planet_radius_distribution_model=bimodal\n",
    "print(popt)\n",
    "plt.plot(bin_centers, bimodal(bin_centers, *popt), 'r-', label='Fit')\n"
   ]
  },
  {
   "cell_type": "code",
   "execution_count": null,
   "id": "c1c1a480-eef4-4f35-b73a-875c1763284f",
   "metadata": {},
   "outputs": [],
   "source": [
    "plt.hist(stallar_rad, bins=1000, density=True);\n",
    "plt.xlim(0, 15)\n",
    "\n",
    "def lognormal(x, m, sigma):\n",
    "    return (1 / (x * np.sqrt(2 * np.pi * sigma ** 2))) * np.exp(- (np.log(x) - np.log(m)) ** 2 / (2 * sigma ** 2))\n",
    "\n",
    "hist, bins = np.histogram(stallar_rad, bins=1000, density=True)\n",
    "bin_centers = (bins[:-1] + bins[1:]) / 2\n",
    "\n",
    "initial_guess = [0.5, 1]\n",
    "popt, pcov = curve_fit(lognormal, bin_centers, hist, p0=initial_guess)\n",
    "stellar_radius_distribution_params=popt\n",
    "stellar_radius_distribution_model=lognormal\n",
    "plt.plot(bin_centers, lognormal(bin_centers, *popt), 'r-', label='Fit')\n",
    "\n",
    "plt.title('Distribution of Exoplanets Staller Radii, Cut Domain')"
   ]
  },
  {
   "cell_type": "code",
   "execution_count": null,
   "id": "178d92ee-d56d-44f6-97ec-c4204eed94d2",
   "metadata": {},
   "outputs": [],
   "source": [
    "filtered_orbital_period = [value for value in orbital_period if value < 600]\n",
    "plt.hist(filtered_orbital_period, bins=1000, density=True);\n",
    "\n",
    "\n",
    "hist, bins = np.histogram(filtered_orbital_period, bins=1000, density=True)\n",
    "bin_centers = (bins[:-1] + bins[1:]) / 2\n",
    "\n",
    "initial_guess = [0.5, 20]\n",
    "popt, pcov = curve_fit(lognormal, bin_centers, hist, p0=initial_guess)\n",
    "orbital_period_distribution_params=popt\n",
    "orbital_period_distribution_model=lognormal\n",
    "plt.plot(bin_centers, lognormal(bin_centers, *popt), 'r-', label='Fit')\n",
    "\n",
    "plt.title('Distribution of Exoplanets Orbital Period, After Filtering')"
   ]
  },
  {
   "cell_type": "code",
   "execution_count": null,
   "id": "6c2f90f0-48d6-4b1c-b783-4a7708b49c6f",
   "metadata": {},
   "outputs": [],
   "source": [
    "filtered_sma = [value for value in orbit_sma if value < 1]\n",
    "plt.hist(filtered_sma, bins=1000, density=True);\n",
    "\n",
    "hist, bins = np.histogram(filtered_sma, bins=1000, density=True)\n",
    "bin_centers = (bins[:-1] + bins[1:]) / 2\n",
    "\n",
    "initial_guess = [0.5, 20]\n",
    "popt, pcov = curve_fit(lognormal, bin_centers, hist, p0=initial_guess)\n",
    "semimajor_axis_distribution_params=popt\n",
    "semimajor_axis_distribution_model=lognormal\n",
    "plt.plot(bin_centers, lognormal(bin_centers, *popt), 'r-', label='Fit')\n",
    "\n",
    "plt.title('Distribution of Exoplanets Semi Major Axis, After Filtering')"
   ]
  },
  {
   "cell_type": "markdown",
   "id": "bf4c06b8-dce5-4917-ac02-d622e65a48c4",
   "metadata": {},
   "source": [
    "We have concluded that the fits are appropriate, so we will use a Bayesian analysis to compare to our solar system."
   ]
  },
  {
   "cell_type": "markdown",
   "id": "2606798c-4c73-4dba-9e3d-9b32345f02cd",
   "metadata": {},
   "source": [
    "## Model Selection Analysis"
   ]
  },
  {
   "cell_type": "code",
   "execution_count": null,
   "id": "e5b4b844-2fe6-45e2-9009-c88f711ed0d8",
   "metadata": {},
   "outputs": [],
   "source": [
    "def likelihood(params, model, data, n_params):\n",
    "    likelihood = 1\n",
    "    if n_params == 5:\n",
    "        for point in data:\n",
    "            likelihood *= model(point, params[0], params[1], params[2], params[3], params[4])\n",
    "    else:\n",
    "        for point in data:\n",
    "            likelihood *= model(point, params[0], params[1])\n",
    "    return likelihood"
   ]
  },
  {
   "cell_type": "code",
   "execution_count": null,
   "id": "a67ea6ee-08a1-4b6c-80c2-8a94531fc1ec",
   "metadata": {},
   "outputs": [],
   "source": [
    "likelihood_rPlanet = likelihood(planet_radius_distribution_params, planet_radius_distribution_model, solar_system_radius, 5)\n",
    "\n",
    "likelihood_stellar_radii = likelihood(stellar_radius_distribution_params, stellar_radius_distribution_model, solar_system_stallar_rad, 2)\n",
    "\n",
    "likelihood_orbital_period = likelihood(orbital_period_distribution_params, orbital_period_distribution_model, solar_system_orbital_period, 2)\n",
    "\n",
    "likelihood_semimajor_axis = likelihood(semimajor_axis_distribution_params, semimajor_axis_distribution_model, solar_system_semimajor_axis, 2)\n",
    "\n",
    "print(\"Model selection result for exoplanets radii:\", \"\\n\", likelihood_rPlanet, \"\\n\", \"--------------------------------\")\n",
    "\n",
    "print(\"Model selection result for exoplanets stellar radii:\", \"\\n\", likelihood_stellar_radii, \"\\n\", \"--------------------------------\")\n",
    "\n",
    "print(\"Model selection result for exoplanets orbital period:\", \"\\n\", likelihood_orbital_period, \"\\n\", \"--------------------------------\")\n",
    "\n",
    "print(\"Model selection result for exoplanets semi major axis:\", \"\\n\", likelihood_semimajor_axis, \"\\n\", \"--------------------------------\")"
   ]
  },
  {
   "cell_type": "code",
   "execution_count": null,
   "id": "7e4f7f64-d574-43c7-b110-9c2cc8df1c7a",
   "metadata": {},
   "outputs": [],
   "source": []
  }
 ],
 "metadata": {
  "kernelspec": {
   "display_name": "Python 3 (ipykernel)",
   "language": "python",
   "name": "python3"
  },
  "language_info": {
   "codemirror_mode": {
    "name": "ipython",
    "version": 3
   },
   "file_extension": ".py",
   "mimetype": "text/x-python",
   "name": "python",
   "nbconvert_exporter": "python",
   "pygments_lexer": "ipython3",
   "version": "3.11.5"
  }
 },
 "nbformat": 4,
 "nbformat_minor": 5
}
