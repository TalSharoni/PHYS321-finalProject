{
 "cells": [
  {
   "cell_type": "markdown",
   "id": "07dc3312-0570-444f-9b3f-46aa28e0043c",
   "metadata": {},
   "source": [
    "## Tal Sharoni, Justin Lipper"
   ]
  },
  {
   "cell_type": "markdown",
   "id": "50c189b4-32b4-4d70-bc63-1b2d9f08e7f3",
   "metadata": {},
   "source": [
    "### Phys-321 Final Project"
   ]
  },
  {
   "cell_type": "code",
   "execution_count": 11,
   "id": "cae0fae5-bf7e-425a-a485-cc6d6b84a4b4",
   "metadata": {},
   "outputs": [],
   "source": [
    "import numpy as np\n",
    "import matplotlib.pyplot as plt\n",
    "import csv\n",
    "from astropy import units as u\n",
    "from astropy.visualization import astropy_mpl_style\n",
    "from scipy.integrate import trapz\n",
    "import scipy.stats as stats\n",
    "import corner\n",
    "import emcee\n",
    "import warnings\n",
    "warnings.filterwarnings(\"ignore\", category=DeprecationWarning)"
   ]
  },
  {
   "cell_type": "code",
   "execution_count": 14,
   "id": "0a6d2282-daef-4f09-b3d7-c6f8ff3f1347",
   "metadata": {},
   "outputs": [],
   "source": [
    "# to compare to our Solar System\n",
    "radius = [0.383, 0.949, 1, 0.532, 11.21, 9.45, 4.01, 3.88]\n",
    "stallar_rad = 1\n",
    "a = [0.387, 0.723, 1, 1.52, 5.20, 9.57, 19.17, 30.18]"
   ]
  },
  {
   "cell_type": "code",
   "execution_count": 13,
   "id": "97f1d6bf-b557-4df9-823e-75d339f84ee5",
   "metadata": {},
   "outputs": [],
   "source": [
    "def parse_data(filename):\n",
    "    radius = []\n",
    "    stallar_rad = []\n",
    "    orbital_period = []\n",
    "    orbit_sma = []\n",
    "    with open(filename, 'r') as f:\n",
    "        csvreader = csv.reader(f)\n",
    "        for row in csvreader:\n",
    "            if row[0].startswith('#'):\n",
    "                continue\n",
    "            if row[0] == 'pl_name':\n",
    "                continue\n",
    "            else:\n",
    "                if (row[21] == '') or (row[26] == '') or (row[19] == '') or (row[20] == ''):\n",
    "                    continue\n",
    "                radius.append(float(row[21]))\n",
    "                stallar_rad.append(float(row[26]))\n",
    "                orbital_period.append(float(row[19]))\n",
    "                orbit_sma.append(float(row[20]))\n",
    "\n",
    "                "
   ]
  },
  {
   "cell_type": "code",
   "execution_count": null,
   "id": "72a804e3-81a4-4b0b-9ecf-43044cc8da2e",
   "metadata": {},
   "outputs": [],
   "source": []
  },
  {
   "cell_type": "code",
   "execution_count": null,
   "id": "24b0ab10-9f71-40ab-aed7-5f054422ef86",
   "metadata": {},
   "outputs": [],
   "source": []
  }
 ],
 "metadata": {
  "kernelspec": {
   "display_name": "Python 3 (ipykernel)",
   "language": "python",
   "name": "python3"
  },
  "language_info": {
   "codemirror_mode": {
    "name": "ipython",
    "version": 3
   },
   "file_extension": ".py",
   "mimetype": "text/x-python",
   "name": "python",
   "nbconvert_exporter": "python",
   "pygments_lexer": "ipython3",
   "version": "3.11.5"
  }
 },
 "nbformat": 4,
 "nbformat_minor": 5
}
