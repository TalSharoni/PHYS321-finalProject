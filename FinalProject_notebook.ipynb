{
 "cells": [
  {
   "cell_type": "markdown",
   "id": "07dc3312-0570-444f-9b3f-46aa28e0043c",
   "metadata": {},
   "source": [
    "## Tal Sharoni, Justin Lipper"
   ]
  },
  {
   "cell_type": "markdown",
   "id": "50c189b4-32b4-4d70-bc63-1b2d9f08e7f3",
   "metadata": {},
   "source": [
    "### Phys-321 Final Project"
   ]
  },
  {
   "cell_type": "code",
   "execution_count": 5,
   "id": "cae0fae5-bf7e-425a-a485-cc6d6b84a4b4",
   "metadata": {},
   "outputs": [
    {
     "name": "stdout",
     "output_type": "stream",
     "text": [
      "%pylab is deprecated, use %matplotlib inline and import the required libraries.\n",
      "Populating the interactive namespace from numpy and matplotlib\n"
     ]
    }
   ],
   "source": [
    "import numpy as np\n",
    "%pylab inline\n",
    "import matplotlib.pyplot as plt\n",
    "from astropy import units as u\n",
    "from astropy.visualization import astropy_mpl_style\n",
    "from scipy.integrate import trapz\n",
    "import scipy.stats as stats\n",
    "import corner\n",
    "import emcee\n",
    "import warnings\n",
    "warnings.filterwarnings(\"ignore\", category=DeprecationWarning)"
   ]
  },
  {
   "cell_type": "code",
   "execution_count": null,
   "id": "97f1d6bf-b557-4df9-823e-75d339f84ee5",
   "metadata": {},
   "outputs": [],
   "source": []
  }
 ],
 "metadata": {
  "kernelspec": {
   "display_name": "Python 3 (ipykernel)",
   "language": "python",
   "name": "python3"
  },
  "language_info": {
   "codemirror_mode": {
    "name": "ipython",
    "version": 3
   },
   "file_extension": ".py",
   "mimetype": "text/x-python",
   "name": "python",
   "nbconvert_exporter": "python",
   "pygments_lexer": "ipython3",
   "version": "3.11.5"
  }
 },
 "nbformat": 4,
 "nbformat_minor": 5
}
